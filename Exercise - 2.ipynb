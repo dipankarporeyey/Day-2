{
 "cells": [
  {
   "cell_type": "markdown",
   "metadata": {},
   "source": [
    "Question : Given two list of numbers and another list of operations, perform the operation on the list of numbers as per the operation\n",
    "\n",
    "list1 = [1, 4, -9, -5.2, 8.5, 10]\n",
    "\n",
    "list2 = [10, 5, -3, 2, 0.5, 1.3]\n",
    "\n",
    "list3 = ['+', '*', '-', '*', '/', '+']\n",
    "\n",
    "\n",
    "output_list = [1+10, 4*5, -9 - (-3), ....]\n",
    "\n",
    "output_list = [11, 20, -6, ...]"
   ]
  },
  {
   "cell_type": "code",
   "execution_count": 11,
   "metadata": {},
   "outputs": [
    {
     "name": "stdout",
     "output_type": "stream",
     "text": [
      "[11, 20, -6, 17.0, 11.3]\n"
     ]
    }
   ],
   "source": [
    "list1 = [1, 4, -9, -5.2, 8.5, 10]\n",
    "\n",
    "list2 = [10, 5, -3, 2, 0.5, 1.3]\n",
    "\n",
    "list3 = ['+', '*', '-', '', '/', '+']\n",
    "\n",
    "output_list = []\n",
    "for i,j,k in zip(list1,list2,list3):\n",
    "    if(k==\"+\"):\n",
    "        p = i+j\n",
    "        output_list.append(p)\n",
    "    elif(k==\"*\"):\n",
    "        p = i*j\n",
    "        output_list.append(p)\n",
    "    elif(k==\"-\"):\n",
    "        p = i-j\n",
    "        output_list.append(p)\n",
    "    elif(k==\"/\"):\n",
    "        p = i/j\n",
    "        output_list.append(p)\n",
    "print(output_list)"
   ]
  },
  {
   "cell_type": "markdown",
   "metadata": {},
   "source": [
    "Exercise :\n",
    "\n",
    "1. Create a list of 10 employees\n",
    "2. Create tuple of salaries of these 10 employees\n",
    "3. Create a tuple of rating of these 10 employees ( 0 - 10 )\n",
    "4. Generate a dictionary of employees and their new salaries based on their ratings \n",
    "    The update to salaries should be as \n",
    "    \n",
    "    \n",
    "a. For rating 0 - 3 no salaries should be updated\n",
    "    \n",
    "b. For rating 3 - 5 a 3% increment to be given\n",
    "\n",
    "c. For rating 5 - 7 a 5% increment to be given\n",
    "\n",
    "d. For rating 7 - 9 a 7% increment to be given\n",
    "\n",
    "e. For rating 9 and above a 7% increment and a bonus of 10% of initial salary to be given"
   ]
  },
  {
   "cell_type": "code",
   "execution_count": 15,
   "metadata": {},
   "outputs": [],
   "source": [
    "employee = ['John', 'Mary', 'Krishna', 'Namesh', 'Aastha', 'Jason', 'Kavita', 'Ravi', 'Shruti', 'Shubham']\n",
    "salaries = (10000, 12000, 13000, 18500, 11000, 19800, 20000, 23500, 19450, 8000)\n",
    "ratings = (2.3, 4.7, 4.3, 9.9, 8.4, 6.1, 6.1, 4.0, 8.8, 9.3)"
   ]
  },
  {
   "cell_type": "code",
   "execution_count": 22,
   "metadata": {},
   "outputs": [
    {
     "name": "stdout",
     "output_type": "stream",
     "text": [
      "[['John', 10000], ['Mary', 12360.0], ['Krishna', 13390.0], ['Namesh', 21645.0], ['Aastha', 11770.0], ['Jason', 29700.0], ['Kavita', 30000.0], ['Ravi', 24205.0], ['Shruti', 20811.5], ['Shubham', 9360.0]]\n"
     ]
    }
   ],
   "source": [
    "dict_list = []\n",
    "\n",
    "for emp, sal, rat in zip(employee, salaries, ratings):\n",
    "    \n",
    "    if 0.0 <= rat < 3.0 :\n",
    "        lst = [emp]\n",
    "        lst.append(sal)\n",
    "        dict_list.append(lst)\n",
    "    elif 3.0 <= rat < 5.0 :\n",
    "        lst = [emp]\n",
    "        sal += (sal*(3/100))\n",
    "        lst.append(sal)\n",
    "        dict_list.append(lst)\n",
    "    elif 5.0 <= rat < 7.0 :\n",
    "        lst = [emp]\n",
    "        sal += (sal*(5/10))\n",
    "        lst.append(sal)\n",
    "        dict_list.append(lst)\n",
    "    elif 7.0 <= rat < 9.0 : \n",
    "        lst = [emp]\n",
    "        sal += (sal*(7/100))\n",
    "        lst.append(sal)\n",
    "        dict_list.append(lst)\n",
    "    elif 9.0 <= rat : \n",
    "        lst = [emp]\n",
    "        sal += ((sal*(7/100)) + (sal*(10/100))) \n",
    "        lst.append(sal)\n",
    "        \n",
    "        dict_list.append(lst)\n",
    "    else:\n",
    "        print('Invalid Rating')\n",
    "    \n",
    "print(dict_list)"
   ]
  },
  {
   "cell_type": "code",
   "execution_count": null,
   "metadata": {},
   "outputs": [],
   "source": [
    "dict_list = {}\n",
    "\n",
    "for emp, sal, rat in zip(employee, salaries, ratings):\n",
    "    \n",
    "    if 0.0 <= rat < 3.0 :\n",
    "        lst = [emp,sal]\n",
    "        lst.append(sal)\n",
    "        dict_list.append(lst)\n",
    "    elif 3.0 <= rat < 5.0 :\n",
    "        lst = [emp,sal]\n",
    "        sal += (sal*(3/100))\n",
    "        lst.append(sal)\n",
    "        dict_list.append(lst)\n",
    "    elif 5.0 <= rat < 7.0 :\n",
    "        lst = [emp,sal]\n",
    "        sal += (sal*(5/10))\n",
    "        lst.append(sal)\n",
    "        dict_list.append(lst)\n",
    "    elif 7.0 <= rat < 9.0 : \n",
    "        lst = [emp,sal]\n",
    "        sal += (sal*(7/100))\n",
    "        lst.append(sal)\n",
    "        dict_list.append(lst)\n",
    "    elif 9.0 <= rat : \n",
    "        lst = [emp,sal]\n",
    "        sal += ((sal*(7/100)) + (sal*(10/100))) \n",
    "        lst.append(sal)\n",
    "        \n",
    "        dict_list.append(lst)\n",
    "    else:\n",
    "        print('Invalid Rating')\n",
    "    \n",
    "print(dict_list)"
   ]
  },
  {
   "cell_type": "code",
   "execution_count": 21,
   "metadata": {},
   "outputs": [
    {
     "data": {
      "text/plain": [
       "{'a': 8, 'b': 4}"
      ]
     },
     "execution_count": 21,
     "metadata": {},
     "output_type": "execute_result"
    }
   ],
   "source": [
    "a = {'a':3, 'b':4}\n",
    "a['a']=8\n",
    "a"
   ]
  },
  {
   "cell_type": "code",
   "execution_count": null,
   "metadata": {},
   "outputs": [],
   "source": []
  }
 ],
 "metadata": {
  "kernelspec": {
   "display_name": "Python 3",
   "language": "python",
   "name": "python3"
  },
  "language_info": {
   "codemirror_mode": {
    "name": "ipython",
    "version": 3
   },
   "file_extension": ".py",
   "mimetype": "text/x-python",
   "name": "python",
   "nbconvert_exporter": "python",
   "pygments_lexer": "ipython3",
   "version": "3.7.6"
  }
 },
 "nbformat": 4,
 "nbformat_minor": 4
}
